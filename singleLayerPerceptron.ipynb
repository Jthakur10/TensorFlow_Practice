{
  "nbformat": 4,
  "nbformat_minor": 0,
  "metadata": {
    "colab": {
      "name": "singleLayerPerceptron.ipynb",
      "provenance": [],
      "include_colab_link": true
    },
    "kernelspec": {
      "name": "python3",
      "display_name": "Python 3"
    }
  },
  "cells": [
    {
      "cell_type": "markdown",
      "metadata": {
        "id": "view-in-github",
        "colab_type": "text"
      },
      "source": [
        "<a href=\"https://colab.research.google.com/github/Jthakur10/TensorFlow_Practice/blob/master/singleLayerPerceptron.ipynb\" target=\"_parent\"><img src=\"https://colab.research.google.com/assets/colab-badge.svg\" alt=\"Open In Colab\"/></a>"
      ]
    },
    {
      "cell_type": "code",
      "metadata": {
        "id": "f3KhzSSLfdrZ",
        "colab_type": "code",
        "colab": {
          "base_uri": "https://localhost:8080/",
          "height": 51
        },
        "outputId": "3c88b74e-9143-4b37-9dc2-ed2ef523e385"
      },
      "source": [
        "import tensorflow as tf;\n",
        "\n",
        "# Building a Computational Graph\n",
        "node1 = tf.constant(3.14,tf.float32)\n",
        "node2 = tf.constant(4)\n",
        "print(node1,node2)\n",
        "\n",
        "# Running a computational graph\n",
        "sess=tf.Session();\n",
        "\n",
        "print(sess.run([node1,node2]))\n",
        "\n"
      ],
      "execution_count": 7,
      "outputs": [
        {
          "output_type": "stream",
          "text": [
            "Tensor(\"Const_4:0\", shape=(), dtype=float32) Tensor(\"Const_5:0\", shape=(), dtype=int32)\n",
            "[3.14, 4]\n"
          ],
          "name": "stdout"
        }
      ]
    },
    {
      "cell_type": "code",
      "metadata": {
        "id": "lS7QYcyzk2Fs",
        "colab_type": "code",
        "colab": {
          "base_uri": "https://localhost:8080/",
          "height": 34
        },
        "outputId": "5ddda727-63d4-4840-fbf3-bc8ef25e60e0"
      },
      "source": [
        "# Basic Operations\n",
        "\n",
        "a = tf.constant(5)\n",
        "b = tf.constant(2)\n",
        "c = tf.constant(3)\n",
        "\n",
        "d = tf.multiply(a,b)\n",
        "e = tf.add(c,b)\n",
        "\n",
        "f = tf.subtract(d,e)\n",
        "\n",
        "sess=tf.Session()\n",
        "outs =sess.run(f)\n",
        "sess.close()\n",
        "\n",
        "print(\"outs={}\".format(outs))"
      ],
      "execution_count": 9,
      "outputs": [
        {
          "output_type": "stream",
          "text": [
            "outs=5\n"
          ],
          "name": "stdout"
        }
      ]
    },
    {
      "cell_type": "code",
      "metadata": {
        "id": "rB4S2t7tlp9Z",
        "colab_type": "code",
        "colab": {
          "base_uri": "https://localhost:8080/",
          "height": 34
        },
        "outputId": "13409cd2-8b42-4fd6-ebc0-8f761d83fea6"
      },
      "source": [
        "#placeholder\n",
        "\n",
        "p = tf.placeholder(tf.float32)\n",
        "q = tf.placeholder(tf.float32)\n",
        "\n",
        "adder_node = p+q\n",
        "\n",
        "sess=tf.Session()\n",
        "\n",
        "print(sess.run(adder_node,{p:[1,3],q:[2,4]}))\n"
      ],
      "execution_count": 14,
      "outputs": [
        {
          "output_type": "stream",
          "text": [
            "[3. 7.]\n"
          ],
          "name": "stdout"
        }
      ]
    }
  ]
}