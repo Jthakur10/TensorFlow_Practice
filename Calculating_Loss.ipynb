{
  "nbformat": 4,
  "nbformat_minor": 0,
  "metadata": {
    "colab": {
      "name": "Calculating_Loss.ipynb",
      "provenance": [],
      "include_colab_link": true
    },
    "kernelspec": {
      "name": "python3",
      "display_name": "Python 3"
    }
  },
  "cells": [
    {
      "cell_type": "markdown",
      "metadata": {
        "id": "view-in-github",
        "colab_type": "text"
      },
      "source": [
        "<a href=\"https://colab.research.google.com/github/Jthakur10/TensorFlow_Practice/blob/master/Calculating_Loss.ipynb\" target=\"_parent\"><img src=\"https://colab.research.google.com/assets/colab-badge.svg\" alt=\"Open In Colab\"/></a>"
      ]
    },
    {
      "cell_type": "code",
      "metadata": {
        "id": "zOmHqlULK19g",
        "colab_type": "code",
        "colab": {
          "base_uri": "https://localhost:8080/",
          "height": 34
        },
        "outputId": "a03591e9-8ab0-4a8b-8ab2-41073678ff8e"
      },
      "source": [
        "import tensorflow as tf;\n",
        "\n",
        "w = tf.Variable([.3],tf.float32)\n",
        "t = tf.Variable([-.3],tf.float32)\n",
        "x = tf.placeholder(tf.float32)\n",
        "\n",
        "linear_model = w*x + t\n",
        "\n",
        "init = tf.global_variables_initializer()\n",
        "\n",
        "sess = tf.Session()\n",
        "\n",
        "sess.run(init)\n",
        "\n",
        "print(sess.run(linear_model,{x : [1,2,3,4]}))"
      ],
      "execution_count": 3,
      "outputs": [
        {
          "output_type": "stream",
          "text": [
            "[0.         0.3        0.6        0.90000004]\n"
          ],
          "name": "stdout"
        }
      ]
    },
    {
      "cell_type": "markdown",
      "metadata": {
        "id": "BMCt-heGOl-7",
        "colab_type": "text"
      },
      "source": [
        "Calculating Loss"
      ]
    },
    {
      "cell_type": "code",
      "metadata": {
        "id": "_DhHfficLYWT",
        "colab_type": "code",
        "colab": {
          "base_uri": "https://localhost:8080/",
          "height": 34
        },
        "outputId": "3f34042a-8eac-4865-b586-65a7d9193db9"
      },
      "source": [
        "y = tf.placeholder(tf.float32)\n",
        "\n",
        "squared_deltas = tf.square(linear_model - y)\n",
        "\n",
        "loss =tf.reduce_sum(squared_deltas)\n",
        "\n",
        "#print(sess.run(loss, { x : [1,2,3,4], y : [0,-1,-2,-3] }))"
      ],
      "execution_count": 4,
      "outputs": [
        {
          "output_type": "stream",
          "text": [
            "23.66\n"
          ],
          "name": "stdout"
        }
      ]
    },
    {
      "cell_type": "markdown",
      "metadata": {
        "id": "xDqJQGChOqHu",
        "colab_type": "text"
      },
      "source": [
        "Minimizing Loss function\n",
        "\n"
      ]
    },
    {
      "cell_type": "code",
      "metadata": {
        "id": "f5MpBbtJOReF",
        "colab_type": "code",
        "colab": {
          "base_uri": "https://localhost:8080/",
          "height": 34
        },
        "outputId": "ea9e7d36-99fa-45f2-853d-55cff24552f1"
      },
      "source": [
        "optimizer = tf.train.GradientDescentOptimizer(0.01)\n",
        "\n",
        "train = optimizer.minimize(loss)\n",
        "\n",
        "sess.run(init)\n",
        "\n",
        "for i in range(1000):\n",
        "  sess.run(train, { x : [1,2,3,4], y : [0,-1,-2,-3]}) \n",
        "\n",
        "print(sess.run([w,t])) \n"
      ],
      "execution_count": 6,
      "outputs": [
        {
          "output_type": "stream",
          "text": [
            "[array([-0.9999969], dtype=float32), array([0.9999908], dtype=float32)]\n"
          ],
          "name": "stdout"
        }
      ]
    }
  ]
}